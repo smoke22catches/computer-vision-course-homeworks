{
 "cells": [
  {
   "cell_type": "markdown",
   "metadata": {},
   "source": [
    "### Introduction to Digital Image Processing with Python\n",
    "The most fundamental libraries we will be using throughout the entire course are:\n",
    "* **OpenCV**\n",
    " * For loading, saving and manipulating images and videos.\n",
    "* **numpy**\n",
    " * Powerful tool for working with (multidimensional) matrices (which are mathematical representations of digital images and videos).\n",
    "* **matplotlib**\n",
    " * Library for easy plotting (figures, plots, images, etc.)."
   ]
  },
  {
   "cell_type": "code",
   "execution_count": null,
   "metadata": {},
   "outputs": [],
   "source": [
    "import cv2\n",
    "import numpy as np\n",
    "from matplotlib import pyplot as plt\n",
    "plt.rcParams['figure.figsize'] = [10, 5]"
   ]
  },
  {
   "cell_type": "markdown",
   "metadata": {},
   "source": [
    "Let's start by loading and plotting an image."
   ]
  },
  {
   "cell_type": "code",
   "execution_count": null,
   "metadata": {},
   "outputs": [],
   "source": [
    "img = cv2.imread('data/kodim21.png')\n",
    "plt.imshow(img)\n",
    "\n",
    "img.shape"
   ]
  },
  {
   "cell_type": "markdown",
   "metadata": {},
   "source": [
    "**Important**: For historical reasons, OpenCV loads images in **BGR** colour space (not RGB!). We need to manually change the order of colour channels."
   ]
  },
  {
   "cell_type": "code",
   "execution_count": null,
   "metadata": {},
   "outputs": [],
   "source": [
    "rows, cols, channels = img.shape\n",
    "img_rgb = np.zeros_like(img)\n",
    "\n",
    "for r in range(rows):\n",
    "    for c in range(cols):\n",
    "        pixel = img[r, c, :]\n",
    "        img_rgb[r, c, 0] = pixel[2]\n",
    "        img_rgb[r, c, 1] = pixel[1]\n",
    "        img_rgb[r, c, 2] = pixel[0]\n",
    "        \n",
    "plt.imshow(img_rgb)      "
   ]
  },
  {
   "cell_type": "markdown",
   "metadata": {},
   "source": [
    "Fortunately, OpenCV provides us with a large variety of conversion functions."
   ]
  },
  {
   "cell_type": "code",
   "execution_count": null,
   "metadata": {},
   "outputs": [],
   "source": [
    "img_rgb = cv2.cvtColor(img, cv2.COLOR_BGR2RGB)\n",
    "plt.imshow(img_rgb)"
   ]
  },
  {
   "cell_type": "code",
   "execution_count": null,
   "metadata": {},
   "outputs": [],
   "source": [
    "img_gray = cv2.cvtColor(img, cv2.COLOR_BGR2GRAY)\n",
    "plt.imshow(img_gray, cmap='gray')"
   ]
  },
  {
   "cell_type": "code",
   "execution_count": null,
   "metadata": {},
   "outputs": [],
   "source": [
    "img_gray.shape"
   ]
  },
  {
   "cell_type": "code",
   "execution_count": null,
   "metadata": {},
   "outputs": [],
   "source": [
    "rows//2"
   ]
  },
  {
   "cell_type": "code",
   "execution_count": null,
   "metadata": {},
   "outputs": [],
   "source": [
    "plt.imshow(img_rgb[0:rows/2, cols//2:, :])"
   ]
  },
  {
   "cell_type": "markdown",
   "metadata": {},
   "source": [
    "### Image Loading Alternatives\n",
    "\n",
    "Apart from OpenCV there are other packages that allow you to read images, e.g., [scikit-image](https://scikit-image.org/docs/0.23.x/api/skimage.io.html#skimage.io.imread), [torchvision](https://pytorch.org/vision/0.19/generated/torchvision.io.read_image.html) or [Pillow](https://pillow.readthedocs.io/en/stable/reference/Image.html#PIL.Image.open), among many others."
   ]
  },
  {
   "cell_type": "code",
   "execution_count": null,
   "metadata": {},
   "outputs": [],
   "source": [
    "from PIL import Image\n",
    "img = Image.open('data/kodim21.png')\n",
    "img"
   ]
  },
  {
   "cell_type": "markdown",
   "metadata": {},
   "source": [
    "Note that Pillow does not load images as numpy arrays. If we want to further process the image as arrays, we need to parse them. Fortunately, this is pretty easy :-)\n",
    "\n",
    "```python\n",
    "img = np.array(img)\n",
    "```"
   ]
  },
  {
   "cell_type": "markdown",
   "metadata": {},
   "source": [
    "### RGB vs CieLAB\n",
    "RGB is not a perceptive colour space. The mathematical difference between two colours does not necessarilly relate to the perceptual difference. Let's see an example."
   ]
  },
  {
   "cell_type": "code",
   "execution_count": null,
   "metadata": {},
   "outputs": [],
   "source": [
    "color_1 = np.zeros((50, 50, 3), dtype=np.uint8)\n",
    "color_1[..., 0] = 100\n",
    "color_1[..., 1] = 200\n",
    "color_1[..., 2] = 100\n",
    "\n",
    "# |color_1 - color_2| = 150\n",
    "color_2 = np.zeros((50, 50, 3), dtype=np.uint8)\n",
    "color_2[..., 0] = 150\n",
    "color_2[..., 1] = 250\n",
    "color_2[..., 2] = 150\n",
    "\n",
    "# |color_1 - color_3| = 120\n",
    "color_3 = np.zeros((50, 50, 3), dtype=np.uint8)\n",
    "color_3[..., 0] = 100\n",
    "color_3[..., 1] = 80\n",
    "color_3[..., 2] = 100\n",
    "\n",
    "plt.subplot(131), plt.imshow(color_1), plt.title('Color 1')\n",
    "plt.subplot(132), plt.imshow(color_2), plt.title('Color 2')\n",
    "plt.subplot(133), plt.imshow(color_3), plt.title('Color 3')"
   ]
  },
  {
   "cell_type": "code",
   "execution_count": null,
   "metadata": {},
   "outputs": [],
   "source": [
    "color_1_lab = cv2.cvtColor(color_1, cv2.COLOR_RGB2LAB)\n",
    "color_2_lab = cv2.cvtColor(color_2, cv2.COLOR_RGB2LAB)\n",
    "color_3_lab = cv2.cvtColor(color_3, cv2.COLOR_RGB2LAB)\n",
    "\n",
    "print('Color 1 (LAB)', color_1_lab[0, 0, :])\n",
    "print('Color 2 (LAB)', color_2_lab[0, 0, :])\n",
    "print('Color 3 (LAB)', color_3_lab[0, 0, :])\n",
    "print(' ')\n",
    "\n",
    "print('SAD with respect to color 1')\n",
    "print('Color 2', np.sum(np.abs(color_1_lab[0, 0, :].astype(np.float32) - color_2_lab[0, 0, :].astype(np.float32))))\n",
    "print('Color 3', np.sum(np.abs(color_1_lab[0, 0, :].astype(np.float32) - color_3_lab[0, 0, :].astype(np.float32))))"
   ]
  }
 ],
 "metadata": {
  "kernelspec": {
   "display_name": "Python 3 (ipykernel)",
   "language": "python",
   "name": "python3"
  },
  "language_info": {
   "codemirror_mode": {
    "name": "ipython",
    "version": 3
   },
   "file_extension": ".py",
   "mimetype": "text/x-python",
   "name": "python",
   "nbconvert_exporter": "python",
   "pygments_lexer": "ipython3",
   "version": "3.13.5"
  }
 },
 "nbformat": 4,
 "nbformat_minor": 4
}
