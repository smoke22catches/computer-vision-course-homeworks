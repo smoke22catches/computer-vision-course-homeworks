{
 "cells": [
  {
   "cell_type": "markdown",
   "metadata": {},
   "source": [
    "### Histogram\n",
    "Image histogram counts the number of pixels with a specific colour."
   ]
  },
  {
   "cell_type": "code",
   "execution_count": null,
   "metadata": {},
   "outputs": [],
   "source": [
    "import cv2\n",
    "import numpy as np\n",
    "from matplotlib import pyplot as plt\n",
    "plt.rcParams['figure.figsize'] = [15, 5]\n",
    "from time import time"
   ]
  },
  {
   "cell_type": "markdown",
   "metadata": {},
   "source": [
    "Let's load an example image."
   ]
  },
  {
   "cell_type": "code",
   "execution_count": null,
   "metadata": {
    "scrolled": true
   },
   "outputs": [],
   "source": [
    "img = cv2.imread('data/kodim05.jpg')\n",
    "img = cv2.cvtColor(img, cv2.COLOR_BGR2GRAY)\n",
    "\n",
    "plt.imshow(img, cmap='gray', vmin=0, vmax=255)"
   ]
  },
  {
   "cell_type": "markdown",
   "metadata": {},
   "source": [
    "Let's now compute the histogram by counting the number of pixels for each colour."
   ]
  },
  {
   "cell_type": "code",
   "execution_count": null,
   "metadata": {},
   "outputs": [],
   "source": [
    "start = time()\n",
    "rows, cols = img.shape\n",
    "hist = np.zeros(256)\n",
    "for r in range(rows):\n",
    "    for c in range(cols):\n",
    "        hist[img[r,c]] = hist[img[r,c]] + 1\n",
    "print('Elapsed time:', time() - start)\n",
    "plt.plot(np.arange(0, 256), hist)\n",
    "plt.grid(True)\n",
    "plt.xlabel('Pixel color'), plt.ylabel('Number of pixels')"
   ]
  },
  {
   "cell_type": "markdown",
   "metadata": {},
   "source": [
    "### Histogram Equalization\n",
    "The transformation function for histogram equalization is the cumulative distribution function (CDF). CDF is computed from image histogram."
   ]
  },
  {
   "cell_type": "code",
   "execution_count": null,
   "metadata": {},
   "outputs": [],
   "source": [
    "cdf = np.zeros(256)\n",
    "for idx, h in enumerate(hist):\n",
    "    cdf[idx] = np.sum(hist[0:idx+1])\n",
    "cdf = cdf/np.sum(hist)\n",
    "plt.plot(cdf), plt.grid(True)\n",
    "plt.xlabel('Pixel color'), plt.ylabel('CDF')"
   ]
  },
  {
   "cell_type": "code",
   "execution_count": null,
   "metadata": {},
   "outputs": [],
   "source": [
    "equalized = np.zeros((rows, cols), dtype=np.uint8)\n",
    "for r in range(rows):\n",
    "    for c in range(cols):\n",
    "        equalized[r,c] = 255*cdf[img[r,c]]\n",
    "\n",
    "plt.subplot(121), plt.imshow(img, cmap='gray', vmin=0, vmax=255)\n",
    "plt.subplot(122), plt.imshow(equalized, cmap='gray', vmin=0, vmax=255)"
   ]
  },
  {
   "cell_type": "markdown",
   "metadata": {},
   "source": [
    "### Useful Functions\n",
    "Histogram calculation as well as histogram equalization are available in numpy and/or OpenCV. Let's first start with histogram calculation using numpy."
   ]
  },
  {
   "cell_type": "code",
   "execution_count": null,
   "metadata": {
    "scrolled": true
   },
   "outputs": [],
   "source": [
    "start = time()\n",
    "hist, bins = np.histogram(img.ravel(), bins=256, range=(0,255))\n",
    "print('Elapsed time:', time() - start)\n",
    "plt.plot(bins[0:-1]+0.5, hist), plt.grid(True)"
   ]
  },
  {
   "cell_type": "markdown",
   "metadata": {},
   "source": [
    "OpenCV includes a function for histogram equalization."
   ]
  },
  {
   "cell_type": "code",
   "execution_count": null,
   "metadata": {
    "scrolled": true
   },
   "outputs": [],
   "source": [
    "dst = cv2.equalizeHist(img)\n",
    "plt.subplot(121), plt.imshow(img, cmap='gray', vmin=0, vmax=255)\n",
    "plt.subplot(122), plt.imshow(dst, cmap='gray', vmin=0, vmax=255)"
   ]
  },
  {
   "cell_type": "markdown",
   "metadata": {},
   "source": [
    "### Contrast Limited Adaptive Histogram Equalization (CLAHE)\n",
    "Histogram equalization assumes that an image with good contrast shall have \"flat\" pdf. However, this is not always true. The image below shows a dark tire and histogram equalization is too agressive."
   ]
  },
  {
   "cell_type": "code",
   "execution_count": null,
   "metadata": {
    "scrolled": true
   },
   "outputs": [],
   "source": [
    "img = cv2.imread('data/tire.png')\n",
    "img = cv2.cvtColor(img, cv2.COLOR_BGR2GRAY)\n",
    "\n",
    "plt.subplot(121), plt.imshow(img, cmap='gray', vmin=0, vmax=255)\n",
    "plt.subplot(122), plt.imshow(cv2.equalizeHist(img), cmap='gray', vmin=0, vmax=255)"
   ]
  },
  {
   "cell_type": "markdown",
   "metadata": {},
   "source": [
    "This happens because the CDF transforms even very dark tones to quite bright levels."
   ]
  },
  {
   "cell_type": "code",
   "execution_count": null,
   "metadata": {},
   "outputs": [],
   "source": [
    "hist, bins = np.histogram(img.ravel(), bins=256, range=(0,255))\n",
    "cdf = np.cumsum(hist/np.sum(hist))\n",
    "plt.plot(255*cdf), plt.axis('square'), plt.grid(True)\n",
    "plt.xlabel('Input'), plt.ylabel('Output')"
   ]
  },
  {
   "cell_type": "markdown",
   "metadata": {},
   "source": [
    "Contrast limited adaptive histogram equalization clips the transformation \"agressivness\"."
   ]
  },
  {
   "cell_type": "code",
   "execution_count": null,
   "metadata": {},
   "outputs": [],
   "source": [
    "clahe = cv2.createCLAHE(clipLimit=2.0, tileGridSize=(8,8))\n",
    "\n",
    "plt.subplot(131), plt.imshow(img, cmap='gray', vmin=0, vmax=255)\n",
    "plt.subplot(132), plt.imshow(cv2.equalizeHist(img), cmap='gray', vmin=0, vmax=255)\n",
    "plt.subplot(133), plt.imshow(clahe.apply(img), cmap='gray', vmin=0, vmax=255)"
   ]
  },
  {
   "cell_type": "markdown",
   "metadata": {},
   "source": [
    "### Histogram Equalization on Color Images\n",
    "\n",
    "How to apply histogram equalization on color images? One option would be to equalize each of the RGB channels separately. However, this may change the color pallette of the original image and new (unnatural) color may appear. An alternative is to convert the image to the HSV color space and equalize only the luma (or value/intensity) channel. Then convert back to RGB and you are done :-)"
   ]
  },
  {
   "cell_type": "code",
   "execution_count": null,
   "metadata": {},
   "outputs": [],
   "source": [
    "from skimage import io\n",
    "\n",
    "urls = ['https://upload.wikimedia.org/wikipedia/commons/c/c8/Common_errors_-_underexposed.jpg',\n",
    "        'https://www.nikonforums.com/forums/uploads/monthly_05_2016/post-13788-0-32083700-1464045099.jpg']\n",
    "\n",
    "images = [io.imread(url) for url in urls]\n",
    "\n",
    "for idx, image in enumerate(images):\n",
    "    plt.subplot(1,2,idx+1), plt.imshow(image), plt.axis(False)"
   ]
  },
  {
   "cell_type": "code",
   "execution_count": null,
   "metadata": {},
   "outputs": [],
   "source": [
    "def equalize(x, clip):\n",
    "    if clip:\n",
    "        return clahe.apply(x)\n",
    "    else:\n",
    "        return cv2.equalizeHist(x)"
   ]
  },
  {
   "cell_type": "code",
   "execution_count": null,
   "metadata": {},
   "outputs": [],
   "source": [
    "clip = False\n",
    "\n",
    "for idx, image in enumerate(images):\n",
    "    # Equalize RGB channels\n",
    "    red, green, blue = cv2.split(image)\n",
    "\n",
    "    red = equalize(red, clip)\n",
    "    blue = equalize(blue, clip)\n",
    "    green = equalize(green, clip)\n",
    "\n",
    "    plt.subplot(2,3,3*idx+1), plt.imshow(image), plt.axis(False)\n",
    "    plt.subplot(2,3,3*idx+2), plt.imshow(cv2.merge([red, green, blue])), plt.axis(False)\n",
    "\n",
    "    # Equalize luma only\n",
    "    image_hsv = cv2.cvtColor(image, cv2.COLOR_RGB2HSV)\n",
    "    hue, saturation, value = cv2.split(image_hsv)\n",
    "\n",
    "    value = equalize(value, clip)\n",
    "    out = cv2.cvtColor(cv2.merge([hue, saturation, value]), cv2.COLOR_HSV2RGB)\n",
    "\n",
    "    plt.subplot(2,3,3*idx+3), plt.imshow(out), plt.axis(False)"
   ]
  }
 ],
 "metadata": {
  "kernelspec": {
   "display_name": "Python 3 (ipykernel)",
   "language": "python",
   "name": "python3"
  },
  "language_info": {
   "codemirror_mode": {
    "name": "ipython",
    "version": 3
   },
   "file_extension": ".py",
   "mimetype": "text/x-python",
   "name": "python",
   "nbconvert_exporter": "python",
   "pygments_lexer": "ipython3",
   "version": "3.12.3"
  }
 },
 "nbformat": 4,
 "nbformat_minor": 4
}
