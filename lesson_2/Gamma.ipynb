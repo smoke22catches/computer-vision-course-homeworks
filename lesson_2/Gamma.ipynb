{
 "cells": [
  {
   "cell_type": "markdown",
   "id": "0103af4f-a325-4e84-868d-874a3ededa31",
   "metadata": {},
   "source": [
    "### Gamma Correction\n",
    "\n",
    "Gamma correction is a fundamental image processing technique that adjusts the luminance or brightness of images to compensate for the non-linear way human eyes perceive light and how display devices render colors. In digital imaging, this technique bridges the gap between how cameras capture light and how humans actually see images. Gamma correction is a simple technique to modify the image contrast. It is a non linear color transformation.\n",
    "\n",
    "**Practical Applications**\n",
    "\n",
    "* Improving image contrast\n",
    "* Correcting color reproduction\n",
    "* Enhancing visibility in low-light or high-light scenes\n",
    "* Preparing images for different display technologies\n",
    "* Data augmentation"
   ]
  },
  {
   "cell_type": "code",
   "execution_count": null,
   "id": "c1744fa1-b963-4b33-9769-bdc1df25571d",
   "metadata": {},
   "outputs": [],
   "source": [
    "import cv2\n",
    "import numpy as np\n",
    "from matplotlib import pyplot as plt\n",
    "plt.rcParams['figure.figsize'] = [15, 5]"
   ]
  },
  {
   "cell_type": "code",
   "execution_count": null,
   "id": "69d501b9-acb8-4bb5-bbca-5352d9592c61",
   "metadata": {},
   "outputs": [],
   "source": [
    "def gamma_correction(img, gamma):\n",
    "    rows, cols, channels = img.shape\n",
    "    out = np.zeros_like(img)\n",
    "    for r in range(rows):\n",
    "        for c in range(cols):\n",
    "            for ch in range(channels):\n",
    "                out[r, c, ch] = img[r, c, ch]**gamma\n",
    "    return out\n",
    "\n",
    "img = cv2.imread('data/dark.png')\n",
    "img = cv2.cvtColor(img, cv2.COLOR_BGR2RGB)/255.0\n",
    "\n",
    "plt.subplot(131), plt.imshow(img), plt.title('Original')\n",
    "plt.subplot(132), plt.imshow(gamma_correction(img, gamma=1.5)), plt.title('gamma = 1.5')\n",
    "plt.subplot(133), plt.imshow(gamma_correction(img, gamma=1/3)), plt.title('gamma = 1/3')"
   ]
  },
  {
   "cell_type": "code",
   "execution_count": null,
   "id": "bf3bcf17-f121-49b0-9a18-b863402977e5",
   "metadata": {},
   "outputs": [],
   "source": [
    "colors = np.arange(0, 256)/255\n",
    "plt.subplot(131), plt.plot(colors, colors**1), plt.xlabel('input'), plt.ylabel('output'), plt.grid(True)\n",
    "plt.subplot(132), plt.plot(colors, colors**1.5), plt.xlabel('input'), plt.ylabel('output'), plt.grid(True)\n",
    "plt.subplot(133), plt.plot(colors, colors**(1/3)), plt.xlabel('input'), plt.ylabel('output'), plt.grid(True)"
   ]
  },
  {
   "cell_type": "markdown",
   "id": "9545c2a1-ee25-46c7-b4b5-31aa4f27176f",
   "metadata": {},
   "source": [
    "The gamma parameter controls the strength of contrast adjustments. It also controls what parts of dynamic range are going to be enhanced, i.e., dark tones (gamma < 1) or bright tones (gamma > 1)."
   ]
  },
  {
   "cell_type": "code",
   "execution_count": null,
   "id": "86bbdb73-b91e-4109-98dd-0159ff6e6448",
   "metadata": {},
   "outputs": [],
   "source": [
    "plt.subplot(121), plt.plot(colors, colors)\n",
    "plt.xlabel('input'), plt.ylabel('output'), plt.grid(True), plt.title('Camera')\n",
    "\n",
    "plt.subplot(122), plt.plot(colors, colors**(1/2.2))\n",
    "plt.xlabel('input'), plt.ylabel('output'), plt.grid(True), plt.title('Human Eye')"
   ]
  },
  {
   "cell_type": "markdown",
   "id": "fea7168c-ed5b-41c8-b3c4-985af2d03ae5",
   "metadata": {},
   "source": [
    "### Image Quantization\n",
    "\n",
    "We already know that cameras respond to illuminance changes **linearly**. This is not a problem since a monitor will show the image as camera *sees* it and we, humans, will perceive it as we normally do. However, using uint8 coding, the dynamic range of the image is split into 256 parts for encoding. Should we use a homogenous (linear) split or gamma corrected split? Let's have a look."
   ]
  },
  {
   "cell_type": "code",
   "execution_count": null,
   "id": "696cbcc5-e4b4-40b4-96da-df40f4a42713",
   "metadata": {},
   "outputs": [],
   "source": [
    "quants = colors**(1/2.2)\n",
    "quants = quants[1:] - quants[0:-1]\n",
    "\n",
    "plt.bar(colors[0:-1], quants, width=1/512), plt.ylim([0, 0.02])\n",
    "plt.axhline(y=1/255, color='r', linestyle='-', label='Quantization without gamma')\n",
    "plt.xlabel('input'), plt.ylabel('output'), plt.grid(True), plt.title('Quant Sizes')\n",
    "plt.legend()"
   ]
  },
  {
   "cell_type": "markdown",
   "id": "4a0caf28-0e21-4409-846c-cf54fb3a6691",
   "metadata": {},
   "source": [
    "As you can see, using a linear split means that we lose colour resolution for darker tones (the quantization bins are larger that they should be) and we use excessive resolution for brighter tones (the quantization bins are unnecessarilly small). In other words, we waste bits for brighter tones and we do not have enough bits for darker tones. Therefore, quantization is always performed after gamma correction (with the appropriate gamma value corresponding to an average human eye).\n",
    "\n",
    "In other words, the division of the dynamic range into 256 parts is *linear* from the human perception perspective (the tones seem equally spaced). This division, however, is not linear from the "
   ]
  }
 ],
 "metadata": {
  "kernelspec": {
   "display_name": "Python 3 (ipykernel)",
   "language": "python",
   "name": "python3"
  },
  "language_info": {
   "codemirror_mode": {
    "name": "ipython",
    "version": 3
   },
   "file_extension": ".py",
   "mimetype": "text/x-python",
   "name": "python",
   "nbconvert_exporter": "python",
   "pygments_lexer": "ipython3",
   "version": "3.12.3"
  }
 },
 "nbformat": 4,
 "nbformat_minor": 5
}
