{
 "cells": [
  {
   "cell_type": "markdown",
   "id": "39d626eb-3fa6-4fd9-a572-4995392b43c8",
   "metadata": {},
   "source": [
    "### Document Deskewing\n",
    "\n",
    "In this notebook we demonstrate how to use image gradients to correct the orientation of scanned documents, the so called document deskewing. The process consists of the following steps:\n",
    "* Gradient estimation. Since the final text shall be horizontal we are insterested in vertical gradients only.\n",
    "* Hough transform to find the predominant lines. Here is is aassumed that the text on the (correctly oriented) page is mostly horizontal.\n",
    "* Estimation of the rotation angle and deskewing (orientation correction)."
   ]
  },
  {
   "cell_type": "code",
   "execution_count": null,
   "id": "77eff027-610c-4b10-9ae6-423c44d6ec08",
   "metadata": {},
   "outputs": [],
   "source": [
    "import cv2\n",
    "import numpy as np\n",
    "from math import degrees\n",
    "from skimage import io\n",
    "\n",
    "from matplotlib import pyplot as plt\n",
    "plt.rcParams['figure.figsize'] = [15, 10]"
   ]
  },
  {
   "cell_type": "code",
   "execution_count": null,
   "id": "b1ca6436-71b5-4031-9766-a8c3a242d58e",
   "metadata": {},
   "outputs": [],
   "source": [
    "# Read image\n",
    "# image = io.imread('https://www.highmotionsoftware.com/images/imbatch/imbatch_deskew3_sample1.jpg')\n",
    "image = io.imread('https://docs.aspose.cloud/ocr/deskew-image/skew-origin.png')\n",
    "\n",
    "# Convert to grayscale\n",
    "gray = cv2.cvtColor(image, cv2.COLOR_BGR2GRAY)\n",
    "\n",
    "# Apply Gaussian blur to reduce noise\n",
    "blur = cv2.GaussianBlur(gray, (5, 5), 0)\n",
    "\n",
    "# Apply Sobel operator to detect horizontal edges (text lines)\n",
    "# We use Sobel in y-direction to detect horizontal text lines\n",
    "sobely = cv2.Sobel(blur, cv2.CV_64F, 0, 1, ksize=3)\n",
    "\n",
    "# Convert to absolute values and scale to 8-bit\n",
    "abs_sobel_y = cv2.convertScaleAbs(sobely)\n",
    "\n",
    "# Threshold to get binary image highlighting text lines\n",
    "_, thresh = cv2.threshold(abs_sobel_y, 30, 255, cv2.THRESH_BINARY)\n",
    "\n",
    "plt.subplot(121), plt.imshow(image), plt.title('Original image')\n",
    "plt.subplot(122), plt.imshow(thresh), plt.title('Vertical gradient')"
   ]
  },
  {
   "cell_type": "markdown",
   "id": "899cfa07-4153-477b-96d2-848e4af8830b",
   "metadata": {},
   "source": [
    "### Document Deskewing\n",
    "\n",
    "We now have two options of how to compute the Hough transform. Either we use the original definition using the HoughLines function or we use the probabilistic approximation using the HoughLinesP. The probabilistic approximation is, in general, faster and more robust to non-linearities. Unlike the classic Hough transform, it also outputs the segment extreme points.\n",
    "\n",
    "Let's start with the HoughTransform function first."
   ]
  },
  {
   "cell_type": "code",
   "execution_count": null,
   "id": "82ad6a57-5db1-470d-924e-9749a82ab37b",
   "metadata": {},
   "outputs": [],
   "source": [
    "# Use standard Hough transform to detect lines\n",
    "lines = cv2.HoughLines(thresh, 1, np.pi/180, 300)\n",
    "\n",
    "# Calculate angles of detected lines and use the strongest lines to compute their slope\n",
    "angles = []\n",
    "if lines is not None:\n",
    "    for line in lines[0:int(0.1*len(lines))]:\n",
    "        rho, theta = line[0]\n",
    "        # Convert theta to degrees\n",
    "        angle_deg = degrees(theta) - 90  # Adjust to get the text line angle\n",
    "        \n",
    "        # We only care about nearly horizontal lines (text)\n",
    "        # Standard HoughLines returns angles in [0, 180), so we need to adjust\n",
    "        if abs(angle_deg) < 20 or abs(angle_deg - 180) < 20 or abs(angle_deg + 180) < 20:\n",
    "            # Normalize angles\n",
    "            if angle_deg > 90:\n",
    "                angle_deg -= 180\n",
    "            elif angle_deg < -90:\n",
    "                angle_deg += 180\n",
    "                \n",
    "            angles.append(angle_deg)"
   ]
  },
  {
   "cell_type": "code",
   "execution_count": null,
   "id": "cc2062bc-747e-4ecd-9ce8-a90480790688",
   "metadata": {
    "scrolled": true
   },
   "outputs": [],
   "source": [
    "plt.plot(angles, '.-'), plt.grid(True)\n",
    "plt.ylabel('Line slopes (deg)'), plt.title('Estimated slopes of the detected lines')"
   ]
  },
  {
   "cell_type": "markdown",
   "id": "ea1426d1-5c19-444b-8d4b-7e73d98c9d33",
   "metadata": {},
   "source": [
    "Let us now repeat the process with the probabilistic approximation for the Hough transform."
   ]
  },
  {
   "cell_type": "code",
   "execution_count": null,
   "id": "365c0f0a-ffda-43cd-b852-1a4a4d8e4430",
   "metadata": {
    "scrolled": true
   },
   "outputs": [],
   "source": [
    "# Use Hough transform to detect lines\n",
    "lines = cv2.HoughLinesP(thresh, 1, np.pi/180, 100, minLineLength=100, maxLineGap=10)\n",
    "\n",
    "# Calculate angles of detected lines\n",
    "angles_p = []\n",
    "if lines is not None:\n",
    "    for line in lines:\n",
    "        x1, y1, x2, y2 = line[0]\n",
    "        # Avoid division by zero\n",
    "        if x2 - x1 == 0:\n",
    "            continue\n",
    "        angle = np.arctan2(y2 - y1, x2 - x1)\n",
    "        # Convert to degrees and adjust to get skew angle\n",
    "        angle_deg = degrees(angle)\n",
    "        # We only care about nearly horizontal lines (text)\n",
    "        if abs(angle_deg) < 50:\n",
    "            angles_p.append(angle_deg)"
   ]
  },
  {
   "cell_type": "code",
   "execution_count": null,
   "id": "d673fe25-addb-4849-963f-26c5f0881e13",
   "metadata": {},
   "outputs": [],
   "source": [
    "plt.plot(angles_p, '.-'), plt.ylim([1, 8]), plt.grid(True)\n",
    "plt.ylabel('Line slopes (deg)'), plt.title('Estimated slopes of the detected lines (prob)')"
   ]
  },
  {
   "cell_type": "markdown",
   "id": "21db1f4a-d833-4cfc-8ea8-e4e2e0cb025a",
   "metadata": {},
   "source": [
    "We now compute the median slope value for both cases and apply image rotation to correct the orientation. Don't worry if you don't know how image rotation works, we will cover the geometric transformations later in this course."
   ]
  },
  {
   "cell_type": "code",
   "execution_count": null,
   "id": "fb66d3e9-3cbe-40c4-aba6-7ddc8bf88671",
   "metadata": {},
   "outputs": [],
   "source": [
    "# Calculate average skew angle\n",
    "skew_angle = np.median(angles)\n",
    "skew_angle_p = np.median(angles_p)\n",
    "\n",
    "\n",
    "# Get image dimensions\n",
    "height, width = image.shape[:2]\n",
    "center = (width // 2, height // 2)\n",
    "\n",
    "# Create rotation matrix\n",
    "M = cv2.getRotationMatrix2D(center, skew_angle, 1.0)\n",
    "M_p = cv2.getRotationMatrix2D(center, skew_angle_p, 1.0)\n",
    "\n",
    "# Apply rotation\n",
    "rotated = cv2.warpAffine(image, M, (width, height), flags=cv2.INTER_CUBIC, borderMode=cv2.BORDER_REPLICATE)\n",
    "rotated_p = cv2.warpAffine(image, M_p, (width, height), flags=cv2.INTER_CUBIC, borderMode=cv2.BORDER_REPLICATE)\n",
    "\n",
    "print(f\"Detected skew angle:        {skew_angle:.2f} degrees\")\n",
    "print(f\"Detected skew angle (prob): {skew_angle_p:.2f} degrees\")"
   ]
  },
  {
   "cell_type": "code",
   "execution_count": null,
   "id": "c86c4db6-8250-42a6-b39c-9d9090860ed7",
   "metadata": {},
   "outputs": [],
   "source": [
    "plt.subplot(131), plt.imshow(image), plt.title('Original image')\n",
    "plt.subplot(132), plt.imshow(rotated), plt.title('Corrected via HoughTransform')\n",
    "plt.subplot(133), plt.imshow(rotated_p), plt.title('Corrected via HoughTransformP')"
   ]
  }
 ],
 "metadata": {
  "kernelspec": {
   "display_name": "Python 3 (ipykernel)",
   "language": "python",
   "name": "python3"
  },
  "language_info": {
   "codemirror_mode": {
    "name": "ipython",
    "version": 3
   },
   "file_extension": ".py",
   "mimetype": "text/x-python",
   "name": "python",
   "nbconvert_exporter": "python",
   "pygments_lexer": "ipython3",
   "version": "3.12.3"
  }
 },
 "nbformat": 4,
 "nbformat_minor": 5
}
